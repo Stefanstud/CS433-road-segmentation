{
 "cells": [
  {
   "cell_type": "code",
   "execution_count": 9,
   "metadata": {},
   "outputs": [],
   "source": [
    "import os\n",
    "import matplotlib.pyplot as plt\n",
    "from PIL import Image"
   ]
  },
  {
   "attachments": {},
   "cell_type": "markdown",
   "metadata": {},
   "source": [
    "### Crop and save"
   ]
  },
  {
   "cell_type": "code",
   "execution_count": 10,
   "metadata": {},
   "outputs": [],
   "source": [
    "# set image and ground truth folders\n",
    "image_folder = 'massachusetts/images'\n",
    "gt_folder = 'massachusetts/groundtruth'"
   ]
  },
  {
   "cell_type": "code",
   "execution_count": 11,
   "metadata": {},
   "outputs": [],
   "source": [
    "# get paths to images and gt\n",
    "image_files = sorted([os.path.join(image_folder, file) for file in os.listdir(image_folder)])\n",
    "gt_files = sorted([os.path.join(gt_folder, file) for file in os.listdir(gt_folder)])"
   ]
  },
  {
   "cell_type": "code",
   "execution_count": 12,
   "metadata": {},
   "outputs": [
    {
     "name": "stdout",
     "output_type": "stream",
     "text": [
      "Number of images: 1108\n",
      "Number of groundtruths: 1108\n"
     ]
    }
   ],
   "source": [
    "print(\"Number of images:\", len(image_files))\n",
    "print(\"Number of groundtruths:\", len(gt_files))"
   ]
  },
  {
   "cell_type": "code",
   "execution_count": 13,
   "metadata": {},
   "outputs": [],
   "source": [
    "# choose size of the cropped images\n",
    "CROP_SIZE = 384\n",
    "OUTPUT_DIR_IMAGES = f'massachusetts_{CROP_SIZE}/images/'\n",
    "OUTPUT_DIR_GT = f'massachusetts_{CROP_SIZE}/groundtruth/'"
   ]
  },
  {
   "cell_type": "code",
   "execution_count": 15,
   "metadata": {},
   "outputs": [],
   "source": [
    "# choose number of images/gt to be used\n",
    "K = 5\n",
    "image_files = image_files[:K]\n",
    "gt_files = gt_files[:K]"
   ]
  },
  {
   "cell_type": "code",
   "execution_count": 16,
   "metadata": {},
   "outputs": [],
   "source": [
    "# create dirs \n",
    "if not os.path.exists(OUTPUT_DIR_IMAGES):\n",
    "    os.makedirs(OUTPUT_DIR_IMAGES)\n",
    "if not os.path.exists(OUTPUT_DIR_GT):\n",
    "    os.makedirs(OUTPUT_DIR_GT)"
   ]
  },
  {
   "cell_type": "code",
   "execution_count": 17,
   "metadata": {},
   "outputs": [],
   "source": [
    "for image_path, gt_path in zip(image_files, gt_files):\n",
    "    # get image and gt ID\n",
    "    image_ID = image_path.split(\"/\")[-1].split(\".\")[0]\n",
    "    gt_ID = gt_path.split(\"/\")[-1].split(\".\")[0]\n",
    "    # check if the gt corresponds to the image\n",
    "    if image_ID == gt_ID:\n",
    "        ID = image_ID\n",
    "    else:\n",
    "        raise ValueError(\"Groundtruth does not coresspond to image!\")\n",
    "    \n",
    "    # open the image and ground truth\n",
    "    image = Image.open(image_path)\n",
    "    ground_truth = Image.open(gt_path)\n",
    "\n",
    "    # get the size of the images\n",
    "    width, height = image.size\n",
    "\n",
    "    # calculate the number of chunks in both dimensions\n",
    "    num_chunks_x = width // CROP_SIZE\n",
    "    num_chunks_y = height // CROP_SIZE\n",
    "\n",
    "    # loop through each chunk and save it\n",
    "    for i in range(num_chunks_x):\n",
    "        for j in range(num_chunks_y):\n",
    "            left = i * CROP_SIZE\n",
    "            upper = j * CROP_SIZE\n",
    "            right = left + CROP_SIZE\n",
    "            lower = upper + CROP_SIZE\n",
    "\n",
    "            # crop image and ground truth\n",
    "            image_chunk = image.crop((left, upper, right, lower))\n",
    "            gt_chunk = ground_truth.crop((left, upper, right, lower))\n",
    "\n",
    "            # save the chunks\n",
    "            image_chunk.save(os.path.join(OUTPUT_DIR_IMAGES, f'{ID}_{i}_{j}.png'))\n",
    "            gt_chunk.save(os.path.join(OUTPUT_DIR_GT, f'{ID}_{i}_{j}.png'))"
   ]
  },
  {
   "attachments": {},
   "cell_type": "markdown",
   "metadata": {},
   "source": [
    "### Check"
   ]
  },
  {
   "cell_type": "code",
   "execution_count": 18,
   "metadata": {},
   "outputs": [],
   "source": [
    "# set image and ground truth folders\n",
    "CROP_SIZE = 384\n",
    "image_folder = f'massachusetts_{CROP_SIZE}/images'\n",
    "gt_folder = f'massachusetts_{CROP_SIZE}/groundtruth'"
   ]
  },
  {
   "cell_type": "code",
   "execution_count": 19,
   "metadata": {},
   "outputs": [],
   "source": [
    "# get paths to images and gt\n",
    "image_files = sorted([os.path.join(image_folder, file) for file in os.listdir(image_folder)])\n",
    "gt_files = sorted([os.path.join(gt_folder, file) for file in os.listdir(gt_folder)])"
   ]
  },
  {
   "cell_type": "code",
   "execution_count": 20,
   "metadata": {},
   "outputs": [
    {
     "name": "stdout",
     "output_type": "stream",
     "text": [
      "Number of images: 45\n",
      "Number of groundtruths: 45\n"
     ]
    }
   ],
   "source": [
    "# check length \n",
    "print(\"Number of images:\", len(image_files))\n",
    "print(\"Number of groundtruths:\", len(gt_files))"
   ]
  },
  {
   "cell_type": "code",
   "execution_count": 21,
   "metadata": {},
   "outputs": [],
   "source": [
    "# check pairs\n",
    "for image_path, gt_path in zip(image_files, gt_files):\n",
    "    image_name = image_path.split(\"/\")[-1]\n",
    "    gt_name = gt_path.split(\"/\")[-1]\n",
    "    if image_name != gt_name:\n",
    "        print(\"There is something wrong!\")"
   ]
  },
  {
   "attachments": {},
   "cell_type": "markdown",
   "metadata": {},
   "source": [
    "### Visual check"
   ]
  },
  {
   "cell_type": "code",
   "execution_count": null,
   "metadata": {},
   "outputs": [],
   "source": [
    "for image_path, gt_path in zip(image_files, gt_files):\n",
    "    image_name = image_path.split(\"/\")[-1]\n",
    "    print(image_name)\n",
    "    image = Image.open(image_path)\n",
    "    gt = Image.open(gt_path)\n",
    "    fig, ax = plt.subplots(1, 2, figsize=(8, 4))\n",
    "    ax[0].imshow(image)\n",
    "    ax[0].set_title(\"Image\")\n",
    "    ax[1].imshow(gt)\n",
    "    ax[1].set_title(\"Ground Truth\")\n",
    "    plt.show()"
   ]
  }
 ],
 "metadata": {
  "kernelspec": {
   "display_name": "Python 3",
   "language": "python",
   "name": "python3"
  },
  "language_info": {
   "codemirror_mode": {
    "name": "ipython",
    "version": 3
   },
   "file_extension": ".py",
   "mimetype": "text/x-python",
   "name": "python",
   "nbconvert_exporter": "python",
   "pygments_lexer": "ipython3",
   "version": "3.10.12"
  },
  "orig_nbformat": 4,
  "vscode": {
   "interpreter": {
    "hash": "916dbcbb3f70747c44a77c7bcd40155683ae19c65e1c03b4aa3499c5328201f1"
   }
  }
 },
 "nbformat": 4,
 "nbformat_minor": 2
}
