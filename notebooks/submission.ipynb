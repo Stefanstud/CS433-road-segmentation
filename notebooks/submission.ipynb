{
 "cells": [
  {
   "cell_type": "code",
   "execution_count": 1,
   "metadata": {},
   "outputs": [],
   "source": [
    "# autoreload\n",
    "%load_ext autoreload\n",
    "%autoreload 2"
   ]
  },
  {
   "cell_type": "code",
   "execution_count": 2,
   "metadata": {},
   "outputs": [],
   "source": [
    "import torch\n",
    "import torchvision.transforms as transforms\n",
    "from datasets.TestDataset import TestDataset\n",
    "import matplotlib.pyplot as plt\n",
    "from examples.mask_to_submission import *\n",
    "import random\n",
    "import torchvision.models.segmentation as models"
   ]
  },
  {
   "cell_type": "code",
   "execution_count": 3,
   "metadata": {},
   "outputs": [],
   "source": [
    "# set seeds as function\n",
    "def set_seed(seed=42):\n",
    "    random.seed(seed)\n",
    "    np.random.seed(seed)\n",
    "    torch.manual_seed(seed)\n",
    "    torch.cuda.manual_seed(seed)\n",
    "\n",
    "\n",
    "# set seeds\n",
    "set_seed()"
   ]
  },
  {
   "cell_type": "code",
   "execution_count": 4,
   "metadata": {},
   "outputs": [],
   "source": [
    "# select checkpoint\n",
    "MODEL = \"models/unet.pt\""
   ]
  },
  {
   "cell_type": "code",
   "execution_count": 14,
   "metadata": {},
   "outputs": [
    {
     "name": "stderr",
     "output_type": "stream",
     "text": [
      "Using cache found in /home/stef/.cache/torch/hub/mateuszbuda_brain-segmentation-pytorch_master\n"
     ]
    },
    {
     "data": {
      "text/plain": [
       "<All keys matched successfully>"
      ]
     },
     "execution_count": 14,
     "metadata": {},
     "output_type": "execute_result"
    }
   ],
   "source": [
    "# load checkpoint\n",
    "checkpoint = torch.load(MODEL)\n",
    "# create model\n",
    "# model = torch.hub.load(\n",
    "#    \"milesial/Pytorch-UNet\", \"unet_carvana\", pretrained=False, scale=0.5\n",
    "# )\n",
    "model = torch.hub.load(\n",
    "    \"mateuszbuda/brain-segmentation-pytorch\",\n",
    "    \"unet\",\n",
    "    in_channels=3,\n",
    "    out_channels=1,\n",
    "    init_features=32,\n",
    "    pretrained=False,\n",
    ")\n",
    "\n",
    "# load model weights\n",
    "model.load_state_dict(checkpoint)"
   ]
  },
  {
   "cell_type": "code",
   "execution_count": 11,
   "metadata": {},
   "outputs": [
    {
     "name": "stdout",
     "output_type": "stream",
     "text": [
      "['datasets/test/test_1/test_1.png', 'datasets/test/test_2/test_2.png', 'datasets/test/test_3/test_3.png', 'datasets/test/test_4/test_4.png', 'datasets/test/test_5/test_5.png', 'datasets/test/test_6/test_6.png', 'datasets/test/test_7/test_7.png', 'datasets/test/test_8/test_8.png', 'datasets/test/test_9/test_9.png', 'datasets/test/test_10/test_10.png', 'datasets/test/test_11/test_11.png', 'datasets/test/test_12/test_12.png', 'datasets/test/test_13/test_13.png', 'datasets/test/test_14/test_14.png', 'datasets/test/test_15/test_15.png', 'datasets/test/test_16/test_16.png', 'datasets/test/test_17/test_17.png', 'datasets/test/test_18/test_18.png', 'datasets/test/test_19/test_19.png', 'datasets/test/test_20/test_20.png', 'datasets/test/test_21/test_21.png', 'datasets/test/test_22/test_22.png', 'datasets/test/test_23/test_23.png', 'datasets/test/test_24/test_24.png', 'datasets/test/test_25/test_25.png', 'datasets/test/test_26/test_26.png', 'datasets/test/test_27/test_27.png', 'datasets/test/test_28/test_28.png', 'datasets/test/test_29/test_29.png', 'datasets/test/test_30/test_30.png', 'datasets/test/test_31/test_31.png', 'datasets/test/test_32/test_32.png', 'datasets/test/test_33/test_33.png', 'datasets/test/test_34/test_34.png', 'datasets/test/test_35/test_35.png', 'datasets/test/test_36/test_36.png', 'datasets/test/test_37/test_37.png', 'datasets/test/test_38/test_38.png', 'datasets/test/test_39/test_39.png', 'datasets/test/test_40/test_40.png', 'datasets/test/test_41/test_41.png', 'datasets/test/test_42/test_42.png', 'datasets/test/test_43/test_43.png', 'datasets/test/test_44/test_44.png', 'datasets/test/test_45/test_45.png', 'datasets/test/test_46/test_46.png', 'datasets/test/test_47/test_47.png', 'datasets/test/test_48/test_48.png', 'datasets/test/test_49/test_49.png', 'datasets/test/test_50/test_50.png']\n"
     ]
    }
   ],
   "source": [
    "# path to the test folder\n",
    "test_folder = \"datasets/test/\"\n",
    "\n",
    "# define transformations\n",
    "transform = transforms.Compose([transforms.ToTensor()])\n",
    "\n",
    "# create test dataset\n",
    "test_dataset = TestDataset(test_folder, transform=transform)"
   ]
  },
  {
   "cell_type": "code",
   "execution_count": 7,
   "metadata": {},
   "outputs": [],
   "source": [
    "# save predictions\n",
    "prediction_filenames = []\n",
    "for i in range(len(test_dataset)):\n",
    "    # get image\n",
    "    image = test_dataset[i]\n",
    "    # create prediction\n",
    "    prediction = model(image.unsqueeze(0))\n",
    "    # for milestial (remove for mateuszbuda)\n",
    "    prediction = prediction[:, [0], :, :]\n",
    "    # threshold prediction\n",
    "    prediction = (prediction > 0.5).float()\n",
    "    # save prediction\n",
    "    prediction_filename = \"predictions/prediction_\" + str(i + 1) + \".png\"\n",
    "    prediction_filenames.append(prediction_filename)\n",
    "    plt.imsave(prediction_filename, prediction.squeeze().detach().numpy(), cmap=\"gray\")"
   ]
  },
  {
   "cell_type": "code",
   "execution_count": 14,
   "metadata": {},
   "outputs": [],
   "source": [
    "# create submission\n",
    "masks_to_submission(\"submission.csv\", *prediction_filenames)"
   ]
  }
 ],
 "metadata": {
  "kernelspec": {
   "display_name": "Python 3",
   "language": "python",
   "name": "python3"
  },
  "language_info": {
   "codemirror_mode": {
    "name": "ipython",
    "version": 3
   },
   "file_extension": ".py",
   "mimetype": "text/x-python",
   "name": "python",
   "nbconvert_exporter": "python",
   "pygments_lexer": "ipython3",
   "version": "3.8.18"
  },
  "orig_nbformat": 4,
  "vscode": {
   "interpreter": {
    "hash": "916dbcbb3f70747c44a77c7bcd40155683ae19c65e1c03b4aa3499c5328201f1"
   }
  }
 },
 "nbformat": 4,
 "nbformat_minor": 2
}
